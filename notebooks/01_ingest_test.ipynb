{
 "cells": [
  {
   "cell_type": "code",
   "execution_count": 1,
   "id": "c56471da",
   "metadata": {},
   "outputs": [],
   "source": [
    "import os\n",
    "from pathlib import Path\n",
    "from dotenv import load_dotenv\n",
    "from langchain_community.document_loaders import PyPDFLoader\n",
    "from langchain.text_splitter import RecursiveCharacterTextSplitter\n",
    "from langchain.embeddings import OpenAIEmbeddings\n",
    "from langchain.vectorstores import FAISS"
   ]
  },
  {
   "cell_type": "code",
   "execution_count": 2,
   "id": "8f8333c5",
   "metadata": {},
   "outputs": [
    {
     "name": "stdout",
     "output_type": "stream",
     "text": [
      "d:\\SuperEngineer\\Projects\\Github\\rag-personal-assistant\\venv\\Scripts\\python.exe\n"
     ]
    }
   ],
   "source": [
    "import sys\n",
    "print(sys.executable)"
   ]
  },
  {
   "cell_type": "code",
   "execution_count": 4,
   "id": "c19e124e",
   "metadata": {},
   "outputs": [
    {
     "name": "stdout",
     "output_type": "stream",
     "text": [
      "当前工作目录设置为项目根目录: D:\\SuperEngineer\\Projects\\Github\\rag-personal-assistant\n"
     ]
    }
   ],
   "source": [
    "from rag_assistant.utils import get_project_root\n",
    "import os\n",
    "\n",
    "project_root = get_project_root()\n",
    "os.chdir(project_root)\n",
    "print(f\"当前工作目录设置为项目根目录: {project_root}\")"
   ]
  },
  {
   "cell_type": "code",
   "execution_count": 5,
   "id": "174aab7b",
   "metadata": {},
   "outputs": [],
   "source": [
    "# 加载 .env 文件中的所有变量到环境变量中\n",
    "load_dotenv()\n",
    "# 通过 os.getenv 读取变量\n",
    "api_key = os.getenv(\"OPENAI_API_KEY\")"
   ]
  },
  {
   "cell_type": "code",
   "execution_count": 6,
   "id": "2b0a3b52",
   "metadata": {},
   "outputs": [],
   "source": [
    "DATA_DIR = Path(\"data\")\n",
    "VECTORDB_DIR = Path(\"vectordb\")"
   ]
  },
  {
   "cell_type": "code",
   "execution_count": 7,
   "id": "a10c87a2",
   "metadata": {},
   "outputs": [],
   "source": [
    "def load_documents(data_dir):\n",
    "    documents = []\n",
    "    for path in data_dir.rglob(\"*.pdf\"):\n",
    "        print(f\"🔍 Loading: {path}\")\n",
    "        loader = PyPDFLoader(str(path))\n",
    "        docs = loader.load()\n",
    "        # 添加文档来源元数据\n",
    "        for doc in docs:\n",
    "            doc.metadata[\"source_path\"] = str(path)\n",
    "            doc.metadata[\"source_type\"] = \"pdf\"\n",
    "        documents.extend(docs)\n",
    "    return documents"
   ]
  },
  {
   "cell_type": "code",
   "execution_count": 8,
   "id": "e47b28db",
   "metadata": {},
   "outputs": [],
   "source": [
    "def chunk_documents(documents):\n",
    "    splitter = RecursiveCharacterTextSplitter(\n",
    "        chunk_size=500,\n",
    "        chunk_overlap=50,\n",
    "        separators=[\"\\n\\n\", \"\\n\", \".\", \"!\", \"?\", \" \", \"\"]\n",
    "    )\n",
    "    return splitter.split_documents(documents)"
   ]
  },
  {
   "cell_type": "code",
   "execution_count": 9,
   "id": "a594a89e",
   "metadata": {},
   "outputs": [],
   "source": [
    "def embed_documents(chunks):\n",
    "    embeddings = OpenAIEmbeddings()\n",
    "    vectordb = FAISS.from_documents(chunks, embeddings)\n",
    "    vectordb.save_local(str(VECTORDB_DIR))\n",
    "    print(f\"✅ Vector DB saved to: {VECTORDB_DIR}\")\n",
    "    return vectordb"
   ]
  },
  {
   "cell_type": "code",
   "execution_count": 10,
   "id": "fa0f83e9",
   "metadata": {},
   "outputs": [
    {
     "name": "stdout",
     "output_type": "stream",
     "text": [
      "📂 Loading documents...\n",
      "🔍 Loading: data\\pdf\\embedded\\Bailey - 2005 - Embedded systems desktop integration.pdf\n",
      "🔍 Loading: data\\pdf\\embedded\\Di Paolo Emilio - 2015 - Embedded Systems Design for High-Speed Data Acquis.pdf\n",
      "🔍 Loading: data\\pdf\\embedded\\ecoder_ug.pdf\n",
      "🔍 Loading: data\\pdf\\embedded\\Infineon-AURIX_TC3xx_Part1-UserManual-v01_00-EN.pdf\n"
     ]
    }
   ],
   "source": [
    "print(\"📂 Loading documents...\")\n",
    "docs = load_documents(DATA_DIR)"
   ]
  },
  {
   "cell_type": "code",
   "execution_count": null,
   "id": "8f598a18",
   "metadata": {},
   "outputs": [],
   "source": []
  }
 ],
 "metadata": {
  "kernelspec": {
   "display_name": "venv",
   "language": "python",
   "name": "python3"
  },
  "language_info": {
   "codemirror_mode": {
    "name": "ipython",
    "version": 3
   },
   "file_extension": ".py",
   "mimetype": "text/x-python",
   "name": "python",
   "nbconvert_exporter": "python",
   "pygments_lexer": "ipython3",
   "version": "3.8.5"
  }
 },
 "nbformat": 4,
 "nbformat_minor": 5
}
