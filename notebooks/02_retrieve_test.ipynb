{
 "cells": [
  {
   "cell_type": "code",
   "execution_count": 8,
   "id": "246ab7c5",
   "metadata": {},
   "outputs": [],
   "source": [
    "from rag_assistant.retrieve import get_embedding_model, search"
   ]
  },
  {
   "cell_type": "code",
   "execution_count": null,
   "id": "358ae4bc",
   "metadata": {},
   "outputs": [],
   "source": [
    "query = \"What are the protocols to use to communicate between embedded system and desktop?\"\n",
    "docs = search(query: str, top_k=3)\n",
    "\n",
    "for i, doc in enumerate(docs):\n",
    "    print(f\"--- Chunk {i+1} ---\")\n",
    "    print(doc.page_content[:300], \"...\\n\")"
   ]
  }
 ],
 "metadata": {
  "kernelspec": {
   "display_name": "venv",
   "language": "python",
   "name": "python3"
  },
  "language_info": {
   "codemirror_mode": {
    "name": "ipython",
    "version": 3
   },
   "file_extension": ".py",
   "mimetype": "text/x-python",
   "name": "python",
   "nbconvert_exporter": "python",
   "pygments_lexer": "ipython3",
   "version": "3.8.5"
  }
 },
 "nbformat": 4,
 "nbformat_minor": 5
}
