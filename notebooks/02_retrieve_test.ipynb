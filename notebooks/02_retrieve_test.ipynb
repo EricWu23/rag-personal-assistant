{
 "cells": [
  {
   "cell_type": "code",
   "execution_count": 2,
   "id": "bd644dac",
   "metadata": {},
   "outputs": [],
   "source": [
    "from tqdm.autonotebook import tqdm, trange"
   ]
  },
  {
   "cell_type": "code",
   "execution_count": 3,
   "id": "246ab7c5",
   "metadata": {},
   "outputs": [],
   "source": [
    "from rag_assistant.retrieve import search"
   ]
  },
  {
   "cell_type": "code",
   "execution_count": 9,
   "id": "358ae4bc",
   "metadata": {},
   "outputs": [
    {
     "name": "stdout",
     "output_type": "stream",
     "text": [
      "💻 Using HuggingFace Embeddings: sentence-transformers/all-MiniLM-L6-v2\n",
      "--- Chunk 1 ---\n",
      "📄 Source: data\\pdf\\embedded\\Bailey - 2005 - Embedded systems desktop integration.pdf\n",
      "Content: computer to another and assure no data was lost or garbled in the\n",
      "process. These are two excellent examples of why protocols are\n",
      "developed and the functions they serve.\n",
      "For our purpose a simple protocol will suffice as a simple\n",
      "means of establishing communications between the desktop com-\n",
      "puters and, ...\n",
      "\n",
      "--- Chunk 2 ---\n",
      "📄 Source: data\\pdf\\embedded\\Bailey - 2005 - Embedded systems desktop integration.pdf\n",
      "Content: Chapter Summary\n",
      "The embedded system now has a formal language that allows it\n",
      "to talk to the world. While this is a simple example, it covers han-\n",
      "dling device input, device output, display output, user input, and\n",
      "the remote monitoring and control of the environment. In the\n",
      "process of establishing a , ...\n",
      "\n",
      "--- Chunk 3 ---\n",
      "📄 Source: data\\pdf\\embedded\\Bailey - 2005 - Embedded systems desktop integration.pdf\n",
      "Content: most can handle almost any of these tasks. For our purpose our\n",
      "primary requirement is communications based, as the embedded\n",
      "controller needs to communicate with each of the following indi-\n",
      "vidually: the host computer, LCD display , input buttons, and\n",
      "temperature sensors.\n",
      "For this project we will use, ...\n",
      "\n"
     ]
    }
   ],
   "source": [
    "query = \"What are the protocols to use to communicate between embedded system and desktop?\"\n",
    "docs = search(query, top_k=3)\n",
    "\n",
    "for i, doc in enumerate(docs):\n",
    "    print(f\"--- Chunk {i+1} ---\")\n",
    "    print(f\"📄 Source: {doc.metadata.get('source_path', 'Unknown')}\")\n",
    "    print(f\"Content: {doc.page_content[:300]}, ...\\n\")"
   ]
  },
  {
   "cell_type": "code",
   "execution_count": null,
   "id": "b723978e",
   "metadata": {},
   "outputs": [],
   "source": []
  }
 ],
 "metadata": {
  "kernelspec": {
   "display_name": "venv",
   "language": "python",
   "name": "python3"
  },
  "language_info": {
   "codemirror_mode": {
    "name": "ipython",
    "version": 3
   },
   "file_extension": ".py",
   "mimetype": "text/x-python",
   "name": "python",
   "nbconvert_exporter": "python",
   "pygments_lexer": "ipython3",
   "version": "3.8.5"
  }
 },
 "nbformat": 4,
 "nbformat_minor": 5
}
