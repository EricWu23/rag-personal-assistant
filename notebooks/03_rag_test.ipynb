{
 "cells": [
  {
   "cell_type": "code",
   "execution_count": 1,
   "id": "8238e333",
   "metadata": {},
   "outputs": [],
   "source": [
    "from rag_assistant.rag_chain import get_qa_chain"
   ]
  },
  {
   "cell_type": "code",
   "execution_count": 2,
   "id": "542f0ef4",
   "metadata": {},
   "outputs": [
    {
     "name": "stderr",
     "output_type": "stream",
     "text": [
      "C:\\Users\\Owner\\AppData\\Local\\Temp\\ipykernel_20604\\4256873726.py:1: TqdmExperimentalWarning: Using `tqdm.autonotebook.tqdm` in notebook mode. Use `tqdm.tqdm` instead to force console mode (e.g. in jupyter console)\n",
      "  from tqdm.autonotebook import tqdm, trange\n"
     ]
    }
   ],
   "source": [
    "from tqdm.autonotebook import tqdm, trange"
   ]
  },
  {
   "cell_type": "code",
   "execution_count": 3,
   "id": "14a24792",
   "metadata": {},
   "outputs": [
    {
     "name": "stdout",
     "output_type": "stream",
     "text": [
      "💻 Using HuggingFace Embeddings: sentence-transformers/all-MiniLM-L6-v2\n",
      "🔌 Using OpenAI Chat Model: gpt-4\n"
     ]
    }
   ],
   "source": [
    "qa_chain = get_qa_chain()"
   ]
  },
  {
   "cell_type": "code",
   "execution_count": 4,
   "id": "98eb12b2",
   "metadata": {},
   "outputs": [],
   "source": [
    "\n",
    "def ask(query):\n",
    "  result = qa_chain.invoke({\"query\": query})\n",
    "  print(\"\\n🧠 Answer:\")\n",
    "  print(result[\"result\"])\n",
    "  print(\"\\n📚 Sources:\")\n",
    "  for i, doc in enumerate(result[\"source_documents\"], 1):\n",
    "    print(f\"--- Source {i} ---\")\n",
    "    print(f\"Path: {doc.metadata.get('source_path', 'Unknown')}\")\n",
    "    print(f\"Excerpt: {doc.page_content[:300]}...\")\n"
   ]
  },
  {
   "cell_type": "code",
   "execution_count": 5,
   "id": "bbe5c597",
   "metadata": {},
   "outputs": [
    {
     "name": "stdout",
     "output_type": "stream",
     "text": [
      "\n",
      "🧠 Answer:\n",
      "The document does not provide specific information on the flash and RAM size of Aurix TC375.\n",
      "\n",
      "📚 Sources:\n",
      "--- Source 1 ---\n",
      "Path: data\\pdf\\embedded\\Infineon-AURIX_TC3xx_Part1-UserManual-v01_00-EN.pdf\n",
      "Excerpt: User’s Manual 1-29 V2.0.0 \n",
      "IntroductionV1.6.4  2021-02\n",
      "AURIX™ TC3xx\n",
      " \n",
      "Introduction\n",
      " “192”: 12 MBytes\n",
      " “256”: 16 MBytes\n",
      "In the SCU_CHIPID this is encoded in the FSIZE field.\n",
      "Memory Type\n",
      "The memory type is currently constant “F” for Flash.\n",
      "Frequency\n",
      "The maximum CPU frequency is encoded with this fie...\n",
      "--- Source 2 ---\n",
      "Path: data\\pdf\\embedded\\Infineon-AURIX_TC3xx_Part1-UserManual-v01_00-EN.pdf\n",
      "Excerpt: FSIZE 27:24 rw Program Flash Size\n",
      "This bit field indicates available program flash size for this device. \n",
      "For more details see Product Datasheet.\n",
      "0H 256 KByte Program Flash (SAx-TC3xxx-4Fx) \n",
      "1H 0.5 MByte Program Flash (SAx-TC3xxx-8Fx) \n",
      "2H 1.0 MByte Program Flash (SAx-TC3xxx-16Fx) \n",
      "3H 1.5 MByte Progr...\n",
      "--- Source 3 ---\n",
      "Path: data\\pdf\\embedded\\Infineon-AURIX_TC3xx_Part1-UserManual-v01_00-EN.pdf\n",
      "Excerpt: programming throughput is higher than for programming single pages.\n",
      "– PFLASH: 8 pages (256 bytes).\n",
      "– DFLASH: 4 pages (32 bytes).\n",
      " Flash Interface: The digital control logic to control read accesses and program and erase operations to the \n",
      "NVM.\n",
      "6.2.2 Major changes from Aurix to AURIXTC3XX\n",
      " Dedicate...\n"
     ]
    }
   ],
   "source": [
    "ask(\"How large are the flash and RAM of Aurix TC375?\")"
   ]
  },
  {
   "cell_type": "code",
   "execution_count": 6,
   "id": "9e32a090",
   "metadata": {},
   "outputs": [
    {
     "name": "stdout",
     "output_type": "stream",
     "text": [
      "\n",
      "🧠 Answer:\n",
      "The document does not provide specific information on the RAM size of the Aurix TC3xx. However, it does mention that the Flash memory can be either 12 MBytes (\"192\") or 16 MBytes (\"256\").\n",
      "\n",
      "📚 Sources:\n",
      "--- Source 1 ---\n",
      "Path: data\\pdf\\embedded\\Infineon-AURIX_TC3xx_Part1-UserManual-v01_00-EN.pdf\n",
      "Excerpt: User’s Manual 1-29 V2.0.0 \n",
      "IntroductionV1.6.4  2021-02\n",
      "AURIX™ TC3xx\n",
      " \n",
      "Introduction\n",
      " “192”: 12 MBytes\n",
      " “256”: 16 MBytes\n",
      "In the SCU_CHIPID this is encoded in the FSIZE field.\n",
      "Memory Type\n",
      "The memory type is currently constant “F” for Flash.\n",
      "Frequency\n",
      "The maximum CPU frequency is encoded with this fie...\n",
      "--- Source 2 ---\n",
      "Path: data\\pdf\\embedded\\Infineon-AURIX_TC3xx_Part1-UserManual-v01_00-EN.pdf\n",
      "Excerpt: 2.3.3 Memory Accesses . . . . . . . . . . . . . . . . . . . . . . . . . . . . . . . . . . . . . . . . . . . . . . . . . . . . . . . . . . . . . . . . . . . . . . .  2-22\n",
      "2.4 Revision History . . . . . . . . . . . . . . . . . . . . . . . . . . . . . . . . . . . . . . . . . . . . . . . . . . . . . .  ...\n",
      "--- Source 3 ---\n",
      "Path: data\\pdf\\embedded\\Infineon-AURIX_TC3xx_Part1-UserManual-v01_00-EN.pdf\n",
      "Excerpt: Additional high-level features of the AURIX™ TC3xx Platform products include:\n",
      " Multicore Architecture\n",
      " Efficient memory organization: in struction and data scratch memories, caches, and local flash banks\n",
      " Serial communication interfaces – flexib le synchronous and asynchronous modes\n",
      " Multiple ch...\n"
     ]
    }
   ],
   "source": [
    "ask(\"How large are the flash and RAM of Aurix TC3xx?\")"
   ]
  },
  {
   "cell_type": "code",
   "execution_count": null,
   "id": "4d5990e6",
   "metadata": {},
   "outputs": [],
   "source": []
  }
 ],
 "metadata": {
  "kernelspec": {
   "display_name": "venv",
   "language": "python",
   "name": "python3"
  },
  "language_info": {
   "codemirror_mode": {
    "name": "ipython",
    "version": 3
   },
   "file_extension": ".py",
   "mimetype": "text/x-python",
   "name": "python",
   "nbconvert_exporter": "python",
   "pygments_lexer": "ipython3",
   "version": "3.8.5"
  }
 },
 "nbformat": 4,
 "nbformat_minor": 5
}
